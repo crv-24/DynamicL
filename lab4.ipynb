{
 "cells": [
  {
   "cell_type": "markdown",
   "id": "53a3ca76",
   "metadata": {},
   "source": [
    "# Лабораторная работа №4"
   ]
  },
  {
   "cell_type": "code",
   "execution_count": 24,
   "id": "69c48115-1331-4e25-b78c-8c639ac9ad14",
   "metadata": {
    "tags": []
   },
   "outputs": [],
   "source": [
    "import pandas as pd\n",
    "import numpy as np\n",
    "\n",
    "from sklearn.preprocessing import MinMaxScaler\n",
    "from sklearn.model_selection import train_test_split\n",
    "import sklearn.naive_bayes\n",
    "from sklearn.model_selection import GridSearchCV\n",
    "from sklearn import metrics"
   ]
  },
  {
   "cell_type": "markdown",
   "id": "6b268e61",
   "metadata": {},
   "source": [
    "Загружаем датасет со свойствами различных грибов, целевым параметром является съедобность (значение \"e\" целевого параметра) или несъедобность (\"p\") гриба."
   ]
  },
  {
   "cell_type": "code",
   "execution_count": 25,
   "id": "a43cf588-a2f1-4b7a-ac02-f8f3aac12f76",
   "metadata": {
    "tags": []
   },
   "outputs": [],
   "source": [
    "mushrooom_dataset = pd.read_csv('MushroomDataset/secondary_data.csv',delimiter=';')"
   ]
  },
  {
   "cell_type": "markdown",
   "id": "14c8117c",
   "metadata": {},
   "source": [
    "Выделяем таргетный столбец в отдельный Series, а все остальные столбы в DataFrame. Также удаляем все столбцы, где большая часть данных типа NaN и заменяем все классы на номер буквы в алфавите."
   ]
  },
  {
   "cell_type": "code",
   "execution_count": 26,
   "id": "daedbc04",
   "metadata": {},
   "outputs": [],
   "source": [
    "y = mushrooom_dataset['class']\n",
    "X = mushrooom_dataset.drop('class',axis=1)\n",
    "X = X.drop(columns=['cap-surface','gill-spacing','gill-attachment','stem-root',\n",
    "                    'stem-surface','veil-type','veil-color','ring-type','spore-print-color'])\n",
    "X.replace({'a':1,'b':2,'c':3,'d':4,'e':5,'f':6,'g':7,\n",
    "           'h':8,'i':9,'j':10,'k':11,'l':12,'m':13,\n",
    "           'n':14,'o':15,'p':16,'q':17,'r':18,'s':19,\n",
    "           't':20,'u':21,'v':22,'w':23,'x':24,'y':25,'z':26},inplace=True)"
   ]
  },
  {
   "cell_type": "markdown",
   "id": "f442f178",
   "metadata": {},
   "source": [
    "После устранения пропусков нормализуем все значения."
   ]
  },
  {
   "cell_type": "code",
   "execution_count": 27,
   "id": "8ca6f84f",
   "metadata": {},
   "outputs": [],
   "source": [
    "scaler = MinMaxScaler()\n",
    "X_ans = scaler.fit_transform(X)"
   ]
  },
  {
   "cell_type": "markdown",
   "id": "6d6a3a67",
   "metadata": {},
   "source": [
    "Разделяем данные на тренировочную и тестовую части."
   ]
  },
  {
   "cell_type": "code",
   "execution_count": 28,
   "id": "33804b7e",
   "metadata": {},
   "outputs": [],
   "source": [
    "X_train, X_test, y_train, y_test = train_test_split(X_ans, y, test_size=0.2)"
   ]
  },
  {
   "cell_type": "markdown",
   "id": "cc30614f",
   "metadata": {},
   "source": [
    "### Гауссовский наивный Байес"
   ]
  },
  {
   "cell_type": "markdown",
   "id": "b4772019",
   "metadata": {},
   "source": [
    "Найдём лучшие гиперпараметры, для этого используем GridSearchCV, куда передадим диапазон возможных значений. Будем искать оптимальное значение гиперпараметра \"var_smoothing\", который отвечает за сглаживание получаемых значений."
   ]
  },
  {
   "cell_type": "code",
   "execution_count": 67,
   "id": "569fc535",
   "metadata": {},
   "outputs": [
    {
     "name": "stdout",
     "output_type": "stream",
     "text": [
      "Fitting 2 folds for each of 100 candidates, totalling 200 fits\n"
     ]
    }
   ],
   "source": [
    "gaussian_classifier = sklearn.naive_bayes.GaussianNB()\n",
    "gaussian_params ={\n",
    "    'var_smoothing': np.geomspace(1e-10,1e10,num=100)\n",
    "}\n",
    "gaussian_grid = GridSearchCV(gaussian_classifier, gaussian_params, cv=2, n_jobs=-1,verbose=3)\n",
    "gaussian_grid.fit(X_train, y_train)\n",
    "best_gaussian_params = gaussian_grid.best_params_"
   ]
  },
  {
   "cell_type": "markdown",
   "id": "197fc00b",
   "metadata": {},
   "source": [
    "После того, как были найдены оптимальные гиперпараметры, можно вывести различные метрики, такие как точность, полнота, f-мера и поддержка."
   ]
  },
  {
   "cell_type": "code",
   "execution_count": 68,
   "id": "44fee69e",
   "metadata": {},
   "outputs": [
    {
     "name": "stdout",
     "output_type": "stream",
     "text": [
      "Used params: {'var_smoothing': 0.07742636826811278}\n",
      "Evaluation:\n",
      "               precision    recall  f1-score   support\n",
      "\n",
      "           e    0.67534   0.24298   0.35737      5445\n",
      "           p    0.59805   0.90604   0.72051      6769\n",
      "\n",
      "    accuracy                        0.61045     12214\n",
      "   macro avg    0.63670   0.57451   0.53894     12214\n",
      "weighted avg    0.63251   0.61045   0.55863     12214\n",
      "\n"
     ]
    }
   ],
   "source": [
    "best_gaussian_model = sklearn.naive_bayes.GaussianNB(**best_gaussian_params)\n",
    "best_gaussian_model.fit(X_train, y_train)\n",
    "gaussian_predicted = best_gaussian_model.predict(X_test)\n",
    "print('Used params:',best_gaussian_params)\n",
    "print('Evaluation:\\n', metrics.classification_report(y_test, gaussian_predicted,digits=5))"
   ]
  },
  {
   "cell_type": "markdown",
   "id": "2033a798",
   "metadata": {},
   "source": [
    "### Мультиномиальный наивный Байес"
   ]
  },
  {
   "cell_type": "markdown",
   "id": "bd3ac264",
   "metadata": {},
   "source": [
    "Найдём лучшие гиперпараметры, для этого используем GridSearchCV, куда передадим диапазон возможных значений. Будем искать оптимальное значение гиперпараметра \"alpha\", который отвечает за сглаживание получаемых значений."
   ]
  },
  {
   "cell_type": "code",
   "execution_count": 71,
   "metadata": {},
   "outputs": [
    {
     "name": "stdout",
     "output_type": "stream",
     "text": [
      "Fitting 2 folds for each of 100 candidates, totalling 200 fits\n"
     ]
    }
   ],
   "source": [
    "classifier = sklearn.naive_bayes.MultinomialNB()\n",
    "params ={\n",
    "    'alpha': np.geomspace(1e-10,1e10,num=100)\n",
    "}\n",
    "grid = GridSearchCV(classifier, params, cv=2, n_jobs=-1,verbose=3)\n",
    "grid.fit(X_train, y_train)\n",
    "best_params = grid.best_params_"
   ]
  },
  {
   "cell_type": "markdown",
   "id": "03550f2c",
   "metadata": {},
   "source": [
    "После того, как были найдены оптимальные гиперпараметры, можно вывести различные метрики, такие как точность, полнота, f-мера и поддержка."
   ]
  },
  {
   "cell_type": "code",
   "execution_count": 66,
   "id": "37f631a3",
   "metadata": {},
   "outputs": [
    {
     "name": "stdout",
     "output_type": "stream",
     "text": [
      "Used params: {'alpha': 1e-10}\n",
      "Evaluation:\n",
      "               precision    recall  f1-score   support\n",
      "\n",
      "           e    0.92222   0.03049   0.05902      5445\n",
      "           p    0.56133   0.99793   0.71850      6769\n",
      "\n",
      "    accuracy                        0.56664     12214\n",
      "   macro avg    0.74177   0.51421   0.38876     12214\n",
      "weighted avg    0.72221   0.56664   0.42451     12214\n",
      "\n"
     ]
    }
   ],
   "source": [
    "best_model = sklearn.naive_bayes.MultinomialNB(**best_params)\n",
    "best_model.fit(X_train, y_train)\n",
    "predicted = best_model.predict(X_test)\n",
    "print('Used params:',best_params)\n",
    "print('Evaluation:\\n', metrics.classification_report(y_test, predicted,digits=5))"
   ]
  },
  {
   "cell_type": "markdown",
   "id": "d684ef18",
   "metadata": {},
   "source": [
    "### Комплементарный наивный Байес"
   ]
  },
  {
   "cell_type": "markdown",
   "id": "f8bfaf63",
   "metadata": {},
   "source": [
    "Найдём лучшие гиперпараметры, для этого используем GridSearchCV, куда передадим диапазон возможных значений. Будем искать оптимальное значение гиперпараметра \"alpha\", который отвечает за сглаживание получаемых значений."
   ]
  },
  {
   "cell_type": "code",
   "execution_count": 63,
   "id": "b3ea5b5f",
   "metadata": {},
   "outputs": [
    {
     "name": "stdout",
     "output_type": "stream",
     "text": [
      "Fitting 2 folds for each of 100 candidates, totalling 200 fits\n"
     ]
    }
   ],
   "source": [
    "classifier = sklearn.naive_bayes.ComplementNB()\n",
    "params ={\n",
    "    'alpha': np.geomspace(1e-10,1e10,num=100)\n",
    "}\n",
    "grid = GridSearchCV(classifier, params, cv=2, n_jobs=-1,verbose=3)\n",
    "grid.fit(X_train, y_train)\n",
    "best_params = grid.best_params_"
   ]
  },
  {
   "cell_type": "markdown",
   "id": "96d274fa",
   "metadata": {},
   "source": [
    "После того, как были найдены оптимальные гиперпараметры, можно вывести различные метрики, такие как точность, полнота, f-мера и поддержка."
   ]
  },
  {
   "cell_type": "code",
   "execution_count": 64,
   "id": "cb20471d",
   "metadata": {},
   "outputs": [
    {
     "name": "stdout",
     "output_type": "stream",
     "text": [
      "Used params: {'alpha': 849.7534359086438}\n",
      "Evaluation:\n",
      "               precision    recall  f1-score   support\n",
      "\n",
      "           e    0.50434   0.65032   0.56811      5445\n",
      "           p    0.63335   0.48589   0.54991      6769\n",
      "\n",
      "    accuracy                        0.55919     12214\n",
      "   macro avg    0.56885   0.56811   0.55901     12214\n",
      "weighted avg    0.57584   0.55919   0.55802     12214\n",
      "\n"
     ]
    }
   ],
   "source": [
    "best_model = sklearn.naive_bayes.ComplementNB(**best_params)\n",
    "best_model.fit(X_train, y_train)\n",
    "predicted = best_model.predict(X_test)\n",
    "print('Used params:',best_params)\n",
    "print('Evaluation:\\n', metrics.classification_report(y_test, predicted,digits=5))"
   ]
  },
  {
   "cell_type": "markdown",
   "id": "7f5e4738",
   "metadata": {},
   "source": [
    "### Бернуллиевский наивный Байес"
   ]
  },
  {
   "cell_type": "markdown",
   "id": "468e02c4",
   "metadata": {},
   "source": [
    "Найдём лучшие гиперпараметры, для этого используем GridSearchCV, куда передадим диапазон возможных значений. Будем искать оптимальное значение гиперпараметра \"alpha\", который отвечает за сглаживание получаемых значений."
   ]
  },
  {
   "cell_type": "code",
   "execution_count": 69,
   "id": "1610e763",
   "metadata": {},
   "outputs": [
    {
     "name": "stdout",
     "output_type": "stream",
     "text": [
      "Fitting 2 folds for each of 100 candidates, totalling 200 fits\n"
     ]
    }
   ],
   "source": [
    "classifier = sklearn.naive_bayes.BernoulliNB()\n",
    "params ={\n",
    "    'alpha': np.geomspace(1e-10,1e10,num=100)\n",
    "}\n",
    "grid = GridSearchCV(classifier, params, cv=2, n_jobs=-1,verbose=3)\n",
    "grid.fit(X_train, y_train)\n",
    "best_params = grid.best_params_"
   ]
  },
  {
   "cell_type": "markdown",
   "id": "122d75d4",
   "metadata": {},
   "source": [
    "После того, как были найдены оптимальные гиперпараметры, можно вывести различные метрики, такие как точность, полнота, f-мера и поддержка."
   ]
  },
  {
   "cell_type": "code",
   "execution_count": 70,
   "id": "758be95c",
   "metadata": {},
   "outputs": [
    {
     "name": "stdout",
     "output_type": "stream",
     "text": [
      "Used params: {'alpha': 83.02175681319736}\n",
      "Evaluation:\n",
      "               precision    recall  f1-score   support\n",
      "\n",
      "           e    0.56356   0.33058   0.41671      5445\n",
      "           p    0.59590   0.79406   0.68085      6769\n",
      "\n",
      "    accuracy                        0.58744     12214\n",
      "   macro avg    0.57973   0.56232   0.54878     12214\n",
      "weighted avg    0.58148   0.58744   0.56310     12214\n",
      "\n"
     ]
    }
   ],
   "source": [
    "best_model = sklearn.naive_bayes.BernoulliNB(**best_params)\n",
    "best_model.fit(X_train, y_train)\n",
    "predicted = best_model.predict(X_test)\n",
    "print('Used params:',best_params)\n",
    "print('Evaluation:\\n', metrics.classification_report(y_test, predicted,digits=5))"
   ]
  },
  {
   "cell_type": "markdown",
   "id": "f2f12e9a",
   "metadata": {},
   "source": [
    "### Категориальный наивный Байес"
   ]
  },
  {
   "cell_type": "markdown",
   "id": "474e70b2",
   "metadata": {},
   "source": [
    "Найдём лучшие гиперпараметры, для этого используем GridSearchCV, куда передадим диапазон возможных значений. Будем искать оптимальное значение гиперпараметра \"alpha\", который отвечает за сглаживание получаемых значений."
   ]
  },
  {
   "cell_type": "code",
   "execution_count": 59,
   "id": "b564e464",
   "metadata": {},
   "outputs": [
    {
     "name": "stdout",
     "output_type": "stream",
     "text": [
      "Fitting 2 folds for each of 100 candidates, totalling 200 fits\n"
     ]
    }
   ],
   "source": [
    "classifier = sklearn.naive_bayes.CategoricalNB()\n",
    "params ={\n",
    "    'alpha': np.geomspace(1e-10,1e10,num=100),\n",
    "    'min_categories':[2]\n",
    "}\n",
    "grid = GridSearchCV(classifier, params, cv=2, n_jobs=-1,verbose=3)\n",
    "grid.fit(X_train, y_train)\n",
    "best_params = grid.best_params_"
   ]
  },
  {
   "cell_type": "markdown",
   "id": "fd00cf27",
   "metadata": {},
   "source": [
    "После того, как были найдены оптимальные гиперпараметры, можно вывести различные метрики, такие как точность, полнота, f-мера и поддержка."
   ]
  },
  {
   "cell_type": "code",
   "execution_count": 60,
   "id": "36f52979",
   "metadata": {},
   "outputs": [
    {
     "name": "stdout",
     "output_type": "stream",
     "text": [
      "Used params: {'alpha': 1e-10, 'min_categories': 2}\n",
      "Evaluation:\n",
      "               precision    recall  f1-score   support\n",
      "\n",
      "           e    0.66193   0.12837   0.21504      5445\n",
      "           p    0.57465   0.94726   0.71535      6769\n",
      "\n",
      "    accuracy                        0.58220     12214\n",
      "   macro avg    0.61829   0.53782   0.46519     12214\n",
      "weighted avg    0.61356   0.58220   0.49231     12214\n",
      "\n"
     ]
    }
   ],
   "source": [
    "best_model = sklearn.naive_bayes.CategoricalNB(**best_params)\n",
    "best_model.fit(X_train, y_train)\n",
    "predicted = best_model.predict(X_test)\n",
    "print('Used params:',best_params)\n",
    "print('Evaluation:\\n', metrics.classification_report(y_test, predicted,digits=5))"
   ]
  }
 ],
 "metadata": {
  "kernelspec": {
   "display_name": "Python 3 (ipykernel)",
   "language": "python",
   "name": "python3"
  },
  "language_info": {
   "codemirror_mode": {
    "name": "ipython",
    "version": 3
   },
   "file_extension": ".py",
   "mimetype": "text/x-python",
   "name": "python",
   "nbconvert_exporter": "python",
   "pygments_lexer": "ipython3",
   "version": "3.11.3"
  }
 },
 "nbformat": 4,
 "nbformat_minor": 5
}
