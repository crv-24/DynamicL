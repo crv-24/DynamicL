{
 "cells": [
  {
   "cell_type": "markdown",
   "id": "53a3ca76",
   "metadata": {},
   "source": [
    "# Лабораторная работа №2"
   ]
  },
  {
   "cell_type": "code",
   "execution_count": 1,
   "id": "69c48115-1331-4e25-b78c-8c639ac9ad14",
   "metadata": {
    "tags": []
   },
   "outputs": [],
   "source": [
    "import pandas as pd\n",
    "\n",
    "from sklearn.preprocessing import StandardScaler\n",
    "from sklearn.model_selection import train_test_split\n",
    "from sklearn.svm import SVC\n",
    "from sklearn.model_selection import GridSearchCV\n",
    "from sklearn import metrics"
   ]
  },
  {
   "cell_type": "markdown",
   "id": "6b268e61",
   "metadata": {},
   "source": [
    "Загружаем датасет со свойствами различных грибов, целевым параметром является съедобность (значение \"e\" целевого параметра) или несъедобность (\"p\") гриба."
   ]
  },
  {
   "cell_type": "code",
   "execution_count": 2,
   "id": "a43cf588-a2f1-4b7a-ac02-f8f3aac12f76",
   "metadata": {
    "tags": []
   },
   "outputs": [],
   "source": [
    "mushrooom_dataset = pd.read_csv('MushroomDataset/secondary_data.csv',delimiter=';')"
   ]
  },
  {
   "cell_type": "markdown",
   "id": "14c8117c",
   "metadata": {},
   "source": [
    "Выделяем таргетный столбец в отдельный Series, а все остальные столбы в DataFrame. Также удаляем все столбцы, где большая часть данных типа NaN и заменяем все классы на номер буквы в алфавите."
   ]
  },
  {
   "cell_type": "code",
   "execution_count": 25,
   "id": "daedbc04",
   "metadata": {},
   "outputs": [],
   "source": [
    "sample_size=5000\n",
    "mushrooom_dataset = mushrooom_dataset.sample(n=sample_size)\n",
    "y = mushrooom_dataset['class']\n",
    "X = mushrooom_dataset.drop('class',axis=1)\n",
    "X = X.drop(columns=['cap-surface','gill-spacing','gill-attachment','stem-root',\n",
    "                    'stem-surface','veil-type','veil-color','ring-type','spore-print-color'])\n",
    "X.replace({'a':1,'b':2,'c':3,'d':4,'e':5,'f':6,'g':7,\n",
    "           'h':8,'i':9,'j':10,'k':11,'l':12,'m':13,\n",
    "           'n':14,'o':15,'p':16,'q':17,'r':18,'s':19,\n",
    "           't':20,'u':21,'v':22,'w':23,'x':24,'y':25,'z':26},inplace=True)"
   ]
  },
  {
   "cell_type": "markdown",
   "id": "f442f178",
   "metadata": {},
   "source": [
    "После устранения пропусков нормализуем все значения."
   ]
  },
  {
   "cell_type": "code",
   "execution_count": 26,
   "id": "8ca6f84f",
   "metadata": {},
   "outputs": [],
   "source": [
    "scaler = StandardScaler()\n",
    "X_ans = scaler.fit_transform(X)"
   ]
  },
  {
   "cell_type": "markdown",
   "id": "6d6a3a67",
   "metadata": {},
   "source": [
    "Разделяем данные на тренировочную и тестовую части."
   ]
  },
  {
   "cell_type": "code",
   "execution_count": 27,
   "id": "33804b7e",
   "metadata": {},
   "outputs": [],
   "source": [
    "X_train, X_test, y_train, y_test = train_test_split(X_ans, y, test_size=0.2)"
   ]
  },
  {
   "cell_type": "markdown",
   "id": "b4772019",
   "metadata": {},
   "source": [
    "Найдём лучшие гиперпараметры, для этого используем GridSearchCV, куда передадим диапазон возможных значений. Будем искать оптимальное значение гиперпараметров C, gamma и kernel, которые отвечают за силу поправок, коэффициент для ядер 'rbf' и 'sigmoid' и используемое ядро."
   ]
  },
  {
   "cell_type": "code",
   "execution_count": 28,
   "id": "569fc535",
   "metadata": {},
   "outputs": [
    {
     "name": "stdout",
     "output_type": "stream",
     "text": [
      "Fitting 2 folds for each of 48 candidates, totalling 96 fits\n"
     ]
    }
   ],
   "source": [
    "classifier = SVC()\n",
    "params ={\n",
    "    'C': [1,0.1,0.01,0.001],\n",
    "    'gamma': [1,10,100,1000],\n",
    "    'kernel':['linear','sigmoid','rbf']\n",
    "}\n",
    "grid = GridSearchCV(classifier, params, cv=2, n_jobs=-1,verbose=3)\n",
    "grid.fit(X_train, y_train)\n",
    "best_params = grid.best_params_"
   ]
  },
  {
   "cell_type": "markdown",
   "id": "197fc00b",
   "metadata": {},
   "source": [
    "После того, как были найдены оптимальные гиперпараметры, можно вывести различные метрики, такие как точность, полнота, f-мера и поддержка."
   ]
  },
  {
   "cell_type": "code",
   "execution_count": 29,
   "id": "44fee69e",
   "metadata": {},
   "outputs": [
    {
     "name": "stdout",
     "output_type": "stream",
     "text": [
      "Used params: {'C': 1, 'gamma': 1, 'kernel': 'rbf'}\n",
      "Evaluation:\n",
      "               precision    recall  f1-score   support\n",
      "\n",
      "           e    0.94524   0.91686   0.93083       433\n",
      "           p    0.93793   0.95944   0.94856       567\n",
      "\n",
      "    accuracy                        0.94100      1000\n",
      "   macro avg    0.94158   0.93815   0.93970      1000\n",
      "weighted avg    0.94109   0.94100   0.94088      1000\n",
      "\n"
     ]
    }
   ],
   "source": [
    "best_model = SVC(**best_params)\n",
    "best_model.fit(X_train, y_train)\n",
    "predicted = best_model.predict(X_test)\n",
    "print('Used params:',best_params)\n",
    "print('Evaluation:\\n', metrics.classification_report(y_test, predicted,digits=5))"
   ]
  }
 ],
 "metadata": {
  "kernelspec": {
   "display_name": "Python 3 (ipykernel)",
   "language": "python",
   "name": "python3"
  },
  "language_info": {
   "codemirror_mode": {
    "name": "ipython",
    "version": 3
   },
   "file_extension": ".py",
   "mimetype": "text/x-python",
   "name": "python",
   "nbconvert_exporter": "python",
   "pygments_lexer": "ipython3",
   "version": "3.11.3"
  }
 },
 "nbformat": 4,
 "nbformat_minor": 5
}
