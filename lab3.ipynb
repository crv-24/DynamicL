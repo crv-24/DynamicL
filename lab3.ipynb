{
 "cells": [
  {
   "cell_type": "markdown",
   "id": "53a3ca76",
   "metadata": {},
   "source": [
    "# Лабораторная работа №3"
   ]
  },
  {
   "cell_type": "code",
   "execution_count": 13,
   "id": "69c48115-1331-4e25-b78c-8c639ac9ad14",
   "metadata": {
    "tags": []
   },
   "outputs": [],
   "source": [
    "import pandas as pd\n",
    "\n",
    "from sklearn.preprocessing import StandardScaler\n",
    "from sklearn.model_selection import train_test_split\n",
    "from sklearn.linear_model import LinearRegression\n",
    "from sklearn.linear_model import LogisticRegression\n",
    "from sklearn import metrics"
   ]
  },
  {
   "cell_type": "markdown",
   "id": "6b268e61",
   "metadata": {},
   "source": [
    "Загружаем датасет со свойствами различных грибов, целевым параметром является съедобность (значение \"e\" целевого параметра) или несъедобность (\"p\") гриба."
   ]
  },
  {
   "cell_type": "code",
   "execution_count": 14,
   "id": "a43cf588-a2f1-4b7a-ac02-f8f3aac12f76",
   "metadata": {
    "tags": []
   },
   "outputs": [],
   "source": [
    "mushrooom_dataset = pd.read_csv('MushroomDataset/secondary_data.csv',delimiter=';')"
   ]
  },
  {
   "cell_type": "markdown",
   "id": "14c8117c",
   "metadata": {},
   "source": [
    "Выделяем таргетный столбец в отдельный Series, а все остальные столбы в DataFrame. Также удаляем все столбцы, где большая часть данных типа NaN и заменяем все классы на номер буквы в алфавите. Так как для классификации используется регрессия, то целевые классы также необходимо представить в виде чисел: 1 - для класса \"e\", 2 - для класса \"p\"."
   ]
  },
  {
   "cell_type": "code",
   "execution_count": 65,
   "id": "daedbc04",
   "metadata": {},
   "outputs": [],
   "source": [
    "y = mushrooom_dataset['class']\n",
    "X = mushrooom_dataset.drop('class',axis=1)\n",
    "X = X.drop(columns=['cap-surface','gill-spacing','gill-attachment','stem-root',\n",
    "                    'stem-surface','veil-type','veil-color','ring-type','spore-print-color'])\n",
    "X.replace({'a':1,'b':2,'c':3,'d':4,'e':5,'f':6,'g':7,\n",
    "           'h':8,'i':9,'j':10,'k':11,'l':12,'m':13,\n",
    "           'n':14,'o':15,'p':16,'q':17,'r':18,'s':19,\n",
    "           't':20,'u':21,'v':22,'w':23,'x':24,'y':25,'z':26},inplace=True)\n",
    "y.replace({\"p\":0,\"e\":1},inplace=True)"
   ]
  },
  {
   "cell_type": "markdown",
   "id": "f442f178",
   "metadata": {},
   "source": [
    "После устранения пропусков нормализуем все значения."
   ]
  },
  {
   "cell_type": "code",
   "execution_count": 66,
   "id": "8ca6f84f",
   "metadata": {},
   "outputs": [],
   "source": [
    "scaler = StandardScaler()\n",
    "X_ans = scaler.fit_transform(X)"
   ]
  },
  {
   "cell_type": "markdown",
   "id": "6d6a3a67",
   "metadata": {},
   "source": [
    "Разделяем данные на тренировочную и тестовую части."
   ]
  },
  {
   "cell_type": "code",
   "execution_count": 67,
   "id": "33804b7e",
   "metadata": {},
   "outputs": [],
   "source": [
    "X_train, X_test, y_train, y_test = train_test_split(X_ans, y, test_size=0.2)"
   ]
  },
  {
   "cell_type": "markdown",
   "id": "bb7de0d3",
   "metadata": {},
   "source": [
    "Определим функцию, которая бы обпределяла класс на основе полученномго путём регрессии числа"
   ]
  },
  {
   "cell_type": "code",
   "execution_count": 80,
   "id": "3edf4475",
   "metadata": {},
   "outputs": [],
   "source": [
    "def regression_to_classification(x):\n",
    "    if x > 0.5:\n",
    "        return 1\n",
    "    else:\n",
    "        return 0"
   ]
  },
  {
   "cell_type": "markdown",
   "id": "2424be5b",
   "metadata": {},
   "source": [
    "Тренируем модель Линейной Регрессии, определяем на основе полученных значений предсказанный класс, и получаем метрики. "
   ]
  },
  {
   "cell_type": "code",
   "execution_count": 81,
   "id": "44fee69e",
   "metadata": {},
   "outputs": [
    {
     "name": "stdout",
     "output_type": "stream",
     "text": [
      "Evaluation:\n",
      "               precision    recall  f1-score   support\n",
      "\n",
      "           0    0.63038   0.77770   0.69633      6842\n",
      "           1    0.59687   0.41921   0.49251      5372\n",
      "\n",
      "    accuracy                        0.62003     12214\n",
      "   macro avg    0.61362   0.59845   0.59442     12214\n",
      "weighted avg    0.61564   0.62003   0.60668     12214\n",
      "\n"
     ]
    }
   ],
   "source": [
    "linear_model = LinearRegression()\n",
    "linear_model.fit(X_train, y_train)\n",
    "predicted = pd.DataFrame(linear_model.predict(X_test),columns=['class'])\n",
    "predicted = predicted['class'].apply(lambda x: regression_to_classification(x))\n",
    "print('Evaluation:\\n', metrics.classification_report(y_test, predicted,digits=5))"
   ]
  },
  {
   "cell_type": "markdown",
   "id": "d3e713b1",
   "metadata": {},
   "source": [
    "Тренируем модель Логистической Регрессии, определяем на основе полученных значений предсказанный класс, и получаем метрики. "
   ]
  },
  {
   "cell_type": "code",
   "execution_count": 82,
   "id": "44e0bd46",
   "metadata": {},
   "outputs": [
    {
     "name": "stdout",
     "output_type": "stream",
     "text": [
      "Evaluation:\n",
      "               precision    recall  f1-score   support\n",
      "\n",
      "           0    0.63171   0.77039   0.69419      6842\n",
      "           1    0.59406   0.42796   0.49751      5372\n",
      "\n",
      "    accuracy                        0.61978     12214\n",
      "   macro avg    0.61288   0.59917   0.59585     12214\n",
      "weighted avg    0.61515   0.61978   0.60769     12214\n",
      "\n"
     ]
    }
   ],
   "source": [
    "logistic_model = LogisticRegression()\n",
    "logistic_model.fit(X_train, y_train)\n",
    "predicted = pd.DataFrame(logistic_model.predict(X_test),columns=['class'])\n",
    "predicted = predicted['class'].apply(lambda x: regression_to_classification(x))\n",
    "print('Evaluation:\\n', metrics.classification_report(y_test, predicted,digits=5))"
   ]
  }
 ],
 "metadata": {
  "kernelspec": {
   "display_name": "Python 3 (ipykernel)",
   "language": "python",
   "name": "python3"
  },
  "language_info": {
   "codemirror_mode": {
    "name": "ipython",
    "version": 3
   },
   "file_extension": ".py",
   "mimetype": "text/x-python",
   "name": "python",
   "nbconvert_exporter": "python",
   "pygments_lexer": "ipython3",
   "version": "3.11.3"
  }
 },
 "nbformat": 4,
 "nbformat_minor": 5
}
