{
 "cells": [
  {
   "cell_type": "markdown",
   "id": "53a3ca76",
   "metadata": {},
   "source": [
    "# Лабораторная работа №5"
   ]
  },
  {
   "cell_type": "code",
   "execution_count": 13,
   "id": "69c48115-1331-4e25-b78c-8c639ac9ad14",
   "metadata": {
    "tags": []
   },
   "outputs": [],
   "source": [
    "import pandas as pd\n",
    "import numpy as np\n",
    "\n",
    "from sklearn.preprocessing import MinMaxScaler\n",
    "from sklearn.model_selection import train_test_split\n",
    "from sklearn.tree import DecisionTreeClassifier\n",
    "from sklearn.ensemble import RandomForestClassifier\n",
    "from sklearn.model_selection import GridSearchCV\n",
    "from sklearn import metrics"
   ]
  },
  {
   "cell_type": "markdown",
   "id": "6b268e61",
   "metadata": {},
   "source": [
    "Загружаем датасет со свойствами различных грибов, целевым параметром является съедобность или несъедобность гриба."
   ]
  },
  {
   "cell_type": "code",
   "execution_count": 14,
   "id": "a43cf588-a2f1-4b7a-ac02-f8f3aac12f76",
   "metadata": {
    "tags": []
   },
   "outputs": [],
   "source": [
    "mushrooom_dataset = pd.read_csv('MushroomDataset/secondary_data.csv',delimiter=';')"
   ]
  },
  {
   "cell_type": "markdown",
   "id": "14c8117c",
   "metadata": {},
   "source": [
    "Выделяем таргетный столбец в отдельный Series, а все остальные столбы в DataFrame. Также удаляем все столбцы, где большая часть данных типа NaN и заменяем все классы на номер буквы в алфавите."
   ]
  },
  {
   "cell_type": "code",
   "execution_count": 15,
   "id": "daedbc04",
   "metadata": {},
   "outputs": [],
   "source": [
    "y = mushrooom_dataset['class']\n",
    "X = mushrooom_dataset.drop('class',axis=1)\n",
    "X = X.drop(columns=['cap-surface','gill-spacing','gill-attachment','stem-root',\n",
    "                    'stem-surface','veil-type','veil-color','ring-type','spore-print-color'])\n",
    "X.replace({'a':1,'b':2,'c':3,'d':4,'e':5,'f':6,'g':7,\n",
    "           'h':8,'i':9,'j':10,'k':11,'l':12,'m':13,\n",
    "           'n':14,'o':15,'p':16,'q':17,'r':18,'s':19,\n",
    "           't':20,'u':21,'v':22,'w':23,'x':24,'y':25,'z':26},inplace=True)"
   ]
  },
  {
   "cell_type": "markdown",
   "id": "f442f178",
   "metadata": {},
   "source": [
    "После устранения пропусков нормализуем все значения."
   ]
  },
  {
   "cell_type": "code",
   "execution_count": 16,
   "id": "8ca6f84f",
   "metadata": {},
   "outputs": [],
   "source": [
    "scaler = MinMaxScaler()\n",
    "X_ans = scaler.fit_transform(X)"
   ]
  },
  {
   "cell_type": "markdown",
   "id": "6d6a3a67",
   "metadata": {},
   "source": [
    "Разделяем данные на тренировочную и тестовую части."
   ]
  },
  {
   "cell_type": "code",
   "execution_count": 17,
   "id": "33804b7e",
   "metadata": {},
   "outputs": [],
   "source": [
    "X_train, X_test, y_train, y_test = train_test_split(X_ans, y, test_size=0.2)"
   ]
  },
  {
   "cell_type": "markdown",
   "id": "cc30614f",
   "metadata": {},
   "source": [
    "### Дерево решений"
   ]
  },
  {
   "cell_type": "markdown",
   "id": "b4772019",
   "metadata": {},
   "source": [
    "Найдём лучшие гиперпараметры, для этого используем GridSearchCV, куда передадим диапазон возможных значений. Будем искать оптимальное значение гиперпараметров criterion, splitter и max_depth, которые отвечает за функция оценки качества, стратегия разделения и максимальная грубина дерева."
   ]
  },
  {
   "cell_type": "code",
   "execution_count": 18,
   "id": "569fc535",
   "metadata": {},
   "outputs": [
    {
     "name": "stdout",
     "output_type": "stream",
     "text": [
      "Fitting 2 folds for each of 594 candidates, totalling 1188 fits\n"
     ]
    }
   ],
   "source": [
    "des_tree_classifier = DecisionTreeClassifier()\n",
    "des_tree_params ={\n",
    "    \"criterion\": ['gini','entropy','log_loss'],\n",
    "    'splitter': ['best','random'],\n",
    "    'max_depth':range(1,100),\n",
    "}\n",
    "des_tree_grid = GridSearchCV(des_tree_classifier, des_tree_params, cv=2, n_jobs=-1,verbose=3)\n",
    "des_tree_grid.fit(X_train, y_train)\n",
    "best_des_tree_params = des_tree_grid.best_params_"
   ]
  },
  {
   "cell_type": "markdown",
   "id": "197fc00b",
   "metadata": {},
   "source": [
    "После того, как были найдены оптимальные гиперпараметры, можно вывести различные метрики, такие как точность, полнота, f-мера и поддержка."
   ]
  },
  {
   "cell_type": "code",
   "execution_count": 19,
   "id": "44fee69e",
   "metadata": {},
   "outputs": [
    {
     "name": "stdout",
     "output_type": "stream",
     "text": [
      "Used params: {'criterion': 'entropy', 'max_depth': 35, 'splitter': 'random'}\n",
      "Evaluation:\n",
      "               precision    recall  f1-score   support\n",
      "\n",
      "           e    0.98919   0.98738   0.98828      5466\n",
      "           p    0.98979   0.99126   0.99052      6748\n",
      "\n",
      "    accuracy                        0.98952     12214\n",
      "   macro avg    0.98949   0.98932   0.98940     12214\n",
      "weighted avg    0.98952   0.98952   0.98952     12214\n",
      "\n"
     ]
    }
   ],
   "source": [
    "best_des_tree_model = DecisionTreeClassifier(**best_des_tree_params)\n",
    "best_des_tree_model.fit(X_train, y_train)\n",
    "des_tree_predicted = best_des_tree_model.predict(X_test)\n",
    "print('Used params:',best_des_tree_params)\n",
    "print('Evaluation:\\n', metrics.classification_report(y_test, des_tree_predicted,digits=5))"
   ]
  },
  {
   "cell_type": "markdown",
   "id": "2033a798",
   "metadata": {},
   "source": [
    "### Случайный лес"
   ]
  },
  {
   "cell_type": "markdown",
   "id": "bd3ac264",
   "metadata": {},
   "source": [
    "Найдём лучшие гиперпараметры, для этого используем GridSearchCV, куда передадим диапазон возможных значений. Будем искать оптимальное значение гиперпараметров n_estimators, criterion и max_depth, которыt отвечают за кол-во деревьев, критерий оценки качества и максимальная глубина деревьев."
   ]
  },
  {
   "cell_type": "code",
   "execution_count": 20,
   "metadata": {},
   "outputs": [
    {
     "name": "stdout",
     "output_type": "stream",
     "text": [
      "Fitting 2 folds for each of 2970 candidates, totalling 5940 fits\n"
     ]
    }
   ],
   "source": [
    "rand_forest_classifier = RandomForestClassifier()\n",
    "rand_forest_params ={\n",
    "    'n_estimators': np.geomspace(1,1e2,10,dtype=int),\n",
    "    'criterion': ['gini','entropy','log_loss'],\n",
    "    'max_depth':range(1,100)\n",
    "}\n",
    "rand_forest_grid = GridSearchCV(rand_forest_classifier, rand_forest_params, cv=2, n_jobs=-1,verbose=3)\n",
    "rand_forest_grid.fit(X_train, y_train)\n",
    "rand_forest_best_params = rand_forest_grid.best_params_"
   ]
  },
  {
   "cell_type": "markdown",
   "id": "03550f2c",
   "metadata": {},
   "source": [
    "После того, как были найдены оптимальные гиперпараметры, можно вывести различные метрики, такие как точность, полнота, f-мера и поддержка."
   ]
  },
  {
   "cell_type": "code",
   "execution_count": 21,
   "id": "37f631a3",
   "metadata": {},
   "outputs": [
    {
     "name": "stdout",
     "output_type": "stream",
     "text": [
      "Used params: {'criterion': 'entropy', 'max_depth': 81, 'n_estimators': 100}\n",
      "Evaluation:\n",
      "               precision    recall  f1-score   support\n",
      "\n",
      "           e    0.99343   0.99579   0.99461      5466\n",
      "           p    0.99659   0.99467   0.99562      6748\n",
      "\n",
      "    accuracy                        0.99517     12214\n",
      "   macro avg    0.99501   0.99523   0.99512     12214\n",
      "weighted avg    0.99517   0.99517   0.99517     12214\n",
      "\n"
     ]
    }
   ],
   "source": [
    "rand_forest_best_model = RandomForestClassifier(**rand_forest_best_params)\n",
    "rand_forest_best_model.fit(X_train, y_train)\n",
    "rand_forest_predicted = rand_forest_best_model.predict(X_test)\n",
    "print('Used params:',rand_forest_best_params)\n",
    "print('Evaluation:\\n', metrics.classification_report(y_test, rand_forest_predicted,digits=5))"
   ]
  }
 ],
 "metadata": {
  "kernelspec": {
   "display_name": "Python 3 (ipykernel)",
   "language": "python",
   "name": "python3"
  },
  "language_info": {
   "codemirror_mode": {
    "name": "ipython",
    "version": 3
   },
   "file_extension": ".py",
   "mimetype": "text/x-python",
   "name": "python",
   "nbconvert_exporter": "python",
   "pygments_lexer": "ipython3",
   "version": "3.11.3"
  }
 },
 "nbformat": 4,
 "nbformat_minor": 5
}
